{
  "nbformat": 4,
  "nbformat_minor": 0,
  "metadata": {
    "colab": {
      "name": "Rever_Predict_House_price.ipynb",
      "provenance": [],
      "collapsed_sections": []
    },
    "kernelspec": {
      "name": "python3",
      "display_name": "Python 3"
    },
    "language_info": {
      "name": "python"
    }
  },
  "cells": [
    {
      "cell_type": "code",
      "metadata": {
        "id": "PANGCZRtY-4C",
        "colab": {
          "base_uri": "https://localhost:8080/"
        },
        "outputId": "c57ca3d7-aed6-4576-c03f-66bcb27c8833"
      },
      "source": [
        "from google.colab import drive\n",
        "drive.mount('/content/drive')"
      ],
      "execution_count": null,
      "outputs": [
        {
          "output_type": "stream",
          "name": "stdout",
          "text": [
            "Drive already mounted at /content/drive; to attempt to forcibly remount, call drive.mount(\"/content/drive\", force_remount=True).\n"
          ]
        }
      ]
    },
    {
      "cell_type": "code",
      "metadata": {
        "id": "DsRV0rq6wUKk"
      },
      "source": [
        "from sklearn.model_selection import cross_val_score\n",
        "from sklearn.model_selection import train_test_split\n",
        "from sklearn.compose import ColumnTransformer\n",
        "from sklearn.preprocessing import OneHotEncoder\n",
        "from sklearn.linear_model import LinearRegression\n",
        "from sklearn.ensemble import RandomForestRegressor\n",
        "from sklearn.model_selection import GridSearchCV\n",
        "import pandas as pd\n",
        "import numpy as np\n",
        "import seaborn as sns\n",
        "from matplotlib import pyplot as plt\n",
        "from sklearn.metrics import mean_squared_error\n",
        "from sklearn.tree import DecisionTreeRegressor\n",
        "from sklearn.impute import KNNImputer\n",
        "import joblib"
      ],
      "execution_count": null,
      "outputs": []
    },
    {
      "cell_type": "markdown",
      "source": [
        "# Load data"
      ],
      "metadata": {
        "id": "mOo-woIqV6og"
      }
    },
    {
      "cell_type": "code",
      "metadata": {
        "id": "21j6m6KmYauA",
        "colab": {
          "base_uri": "https://localhost:8080/"
        },
        "outputId": "8f360455-c572-4302-d9f5-bc0fce97a6ff"
      },
      "source": [
        "data_path = \"./drive/MyDrive/Colab Notebooks/datasets/rever_dataset.csv\"\n",
        "data=pd.read_csv(data_path)"
      ],
      "execution_count": null,
      "outputs": [
        {
          "output_type": "stream",
          "name": "stderr",
          "text": [
            "/usr/local/lib/python3.7/dist-packages/IPython/core/interactiveshell.py:2718: DtypeWarning: Columns (48,88,105,140,150,165) have mixed types.Specify dtype option on import or set low_memory=False.\n",
            "  interactivity=interactivity, compiler=compiler, result=result)\n"
          ]
        }
      ]
    },
    {
      "cell_type": "markdown",
      "source": [
        "# Overview about data"
      ],
      "metadata": {
        "id": "r0kB94AXWMaN"
      }
    },
    {
      "cell_type": "code",
      "metadata": {
        "id": "MfmminyXvfZb",
        "colab": {
          "base_uri": "https://localhost:8080/",
          "height": 364
        },
        "outputId": "de9a2487-f889-4920-a276-469dc73e6765"
      },
      "source": [
        "data.describe()"
      ],
      "execution_count": null,
      "outputs": [
        {
          "output_type": "execute_result",
          "data": {
            "text/html": [
              "\n",
              "  <div id=\"df-0c604e93-ac12-4c9f-9b2a-cd545622d7e9\">\n",
              "    <div class=\"colab-df-container\">\n",
              "      <div>\n",
              "<style scoped>\n",
              "    .dataframe tbody tr th:only-of-type {\n",
              "        vertical-align: middle;\n",
              "    }\n",
              "\n",
              "    .dataframe tbody tr th {\n",
              "        vertical-align: top;\n",
              "    }\n",
              "\n",
              "    .dataframe thead th {\n",
              "        text-align: right;\n",
              "    }\n",
              "</style>\n",
              "<table border=\"1\" class=\"dataframe\">\n",
              "  <thead>\n",
              "    <tr style=\"text-align: right;\">\n",
              "      <th></th>\n",
              "      <th>num_bed_room</th>\n",
              "      <th>area</th>\n",
              "      <th>created_time</th>\n",
              "      <th>property_type</th>\n",
              "      <th>has_media</th>\n",
              "      <th>direction</th>\n",
              "      <th>published_time</th>\n",
              "      <th>rental_price_vnd</th>\n",
              "      <th>service_type</th>\n",
              "      <th>property_status</th>\n",
              "      <th>sell_price_vnd</th>\n",
              "      <th>updated_time</th>\n",
              "      <th>num_bath_room</th>\n",
              "      <th>balcony_direction</th>\n",
              "      <th>listing_opportunity_id</th>\n",
              "      <th>content_status</th>\n",
              "      <th>juridical_status</th>\n",
              "      <th>house_status</th>\n",
              "      <th>architectural_style</th>\n",
              "      <th>rent_discount_vnd</th>\n",
              "      <th>sale_discount_vnd</th>\n",
              "      <th>media_status</th>\n",
              "      <th>province</th>\n",
              "      <th>bed_materials</th>\n",
              "      <th>kitchen_island_materials</th>\n",
              "    </tr>\n",
              "  </thead>\n",
              "  <tbody>\n",
              "    <tr>\n",
              "      <th>count</th>\n",
              "      <td>30313.000000</td>\n",
              "      <td>30323.000000</td>\n",
              "      <td>3.032300e+04</td>\n",
              "      <td>30323.000000</td>\n",
              "      <td>1715.000000</td>\n",
              "      <td>30322.000000</td>\n",
              "      <td>3.032300e+04</td>\n",
              "      <td>3.032300e+04</td>\n",
              "      <td>30323.000000</td>\n",
              "      <td>30323.0</td>\n",
              "      <td>3.032300e+04</td>\n",
              "      <td>3.032300e+04</td>\n",
              "      <td>30313.000000</td>\n",
              "      <td>28870.000000</td>\n",
              "      <td>11025.000000</td>\n",
              "      <td>2853.000000</td>\n",
              "      <td>28903.0</td>\n",
              "      <td>28903.0</td>\n",
              "      <td>28907.000000</td>\n",
              "      <td>2.144300e+04</td>\n",
              "      <td>1.793000e+04</td>\n",
              "      <td>46.000000</td>\n",
              "      <td>0.0</td>\n",
              "      <td>0.0</td>\n",
              "      <td>0.0</td>\n",
              "    </tr>\n",
              "    <tr>\n",
              "      <th>mean</th>\n",
              "      <td>2.159305</td>\n",
              "      <td>86.989396</td>\n",
              "      <td>1.611200e+12</td>\n",
              "      <td>4.154009</td>\n",
              "      <td>0.997668</td>\n",
              "      <td>3.436317</td>\n",
              "      <td>1.616411e+12</td>\n",
              "      <td>2.172873e+10</td>\n",
              "      <td>1.743297</td>\n",
              "      <td>700.0</td>\n",
              "      <td>3.584554e+09</td>\n",
              "      <td>1.631542e+12</td>\n",
              "      <td>1.923432</td>\n",
              "      <td>2.545376</td>\n",
              "      <td>1596.965533</td>\n",
              "      <td>1.702068</td>\n",
              "      <td>0.0</td>\n",
              "      <td>0.0</td>\n",
              "      <td>2.228699</td>\n",
              "      <td>-1.410617e+04</td>\n",
              "      <td>-4.909095e+07</td>\n",
              "      <td>1.913043</td>\n",
              "      <td>NaN</td>\n",
              "      <td>NaN</td>\n",
              "      <td>NaN</td>\n",
              "    </tr>\n",
              "    <tr>\n",
              "      <th>std</th>\n",
              "      <td>1.489558</td>\n",
              "      <td>189.473231</td>\n",
              "      <td>2.723341e+10</td>\n",
              "      <td>5.923369</td>\n",
              "      <td>0.307425</td>\n",
              "      <td>3.030324</td>\n",
              "      <td>2.684733e+10</td>\n",
              "      <td>1.800072e+12</td>\n",
              "      <td>0.507442</td>\n",
              "      <td>0.0</td>\n",
              "      <td>6.340382e+09</td>\n",
              "      <td>7.076561e+09</td>\n",
              "      <td>1.488401</td>\n",
              "      <td>2.918371</td>\n",
              "      <td>4805.629906</td>\n",
              "      <td>0.874037</td>\n",
              "      <td>0.0</td>\n",
              "      <td>0.0</td>\n",
              "      <td>1.291509</td>\n",
              "      <td>1.182868e+06</td>\n",
              "      <td>5.186880e+09</td>\n",
              "      <td>0.962083</td>\n",
              "      <td>NaN</td>\n",
              "      <td>NaN</td>\n",
              "      <td>NaN</td>\n",
              "    </tr>\n",
              "    <tr>\n",
              "      <th>min</th>\n",
              "      <td>0.000000</td>\n",
              "      <td>0.000000</td>\n",
              "      <td>1.465286e+12</td>\n",
              "      <td>1.000000</td>\n",
              "      <td>0.000000</td>\n",
              "      <td>0.000000</td>\n",
              "      <td>1.483083e+12</td>\n",
              "      <td>0.000000e+00</td>\n",
              "      <td>1.000000</td>\n",
              "      <td>700.0</td>\n",
              "      <td>0.000000e+00</td>\n",
              "      <td>1.610973e+12</td>\n",
              "      <td>0.000000</td>\n",
              "      <td>0.000000</td>\n",
              "      <td>0.000000</td>\n",
              "      <td>1.000000</td>\n",
              "      <td>0.0</td>\n",
              "      <td>0.0</td>\n",
              "      <td>0.000000</td>\n",
              "      <td>-9.999990e+07</td>\n",
              "      <td>-6.800000e+11</td>\n",
              "      <td>1.000000</td>\n",
              "      <td>NaN</td>\n",
              "      <td>NaN</td>\n",
              "      <td>NaN</td>\n",
              "    </tr>\n",
              "    <tr>\n",
              "      <th>25%</th>\n",
              "      <td>2.000000</td>\n",
              "      <td>53.200000</td>\n",
              "      <td>1.605661e+12</td>\n",
              "      <td>1.000000</td>\n",
              "      <td>1.000000</td>\n",
              "      <td>0.000000</td>\n",
              "      <td>1.611128e+12</td>\n",
              "      <td>0.000000e+00</td>\n",
              "      <td>1.000000</td>\n",
              "      <td>700.0</td>\n",
              "      <td>0.000000e+00</td>\n",
              "      <td>1.631175e+12</td>\n",
              "      <td>1.000000</td>\n",
              "      <td>0.000000</td>\n",
              "      <td>0.000000</td>\n",
              "      <td>1.000000</td>\n",
              "      <td>0.0</td>\n",
              "      <td>0.0</td>\n",
              "      <td>1.000000</td>\n",
              "      <td>0.000000e+00</td>\n",
              "      <td>0.000000e+00</td>\n",
              "      <td>1.000000</td>\n",
              "      <td>NaN</td>\n",
              "      <td>NaN</td>\n",
              "      <td>NaN</td>\n",
              "    </tr>\n",
              "    <tr>\n",
              "      <th>50%</th>\n",
              "      <td>2.000000</td>\n",
              "      <td>69.000000</td>\n",
              "      <td>1.616507e+12</td>\n",
              "      <td>1.000000</td>\n",
              "      <td>1.000000</td>\n",
              "      <td>3.000000</td>\n",
              "      <td>1.624419e+12</td>\n",
              "      <td>0.000000e+00</td>\n",
              "      <td>2.000000</td>\n",
              "      <td>700.0</td>\n",
              "      <td>2.650000e+09</td>\n",
              "      <td>1.635477e+12</td>\n",
              "      <td>2.000000</td>\n",
              "      <td>1.000000</td>\n",
              "      <td>0.000000</td>\n",
              "      <td>1.000000</td>\n",
              "      <td>0.0</td>\n",
              "      <td>0.0</td>\n",
              "      <td>3.000000</td>\n",
              "      <td>0.000000e+00</td>\n",
              "      <td>0.000000e+00</td>\n",
              "      <td>1.500000</td>\n",
              "      <td>NaN</td>\n",
              "      <td>NaN</td>\n",
              "      <td>NaN</td>\n",
              "    </tr>\n",
              "    <tr>\n",
              "      <th>75%</th>\n",
              "      <td>3.000000</td>\n",
              "      <td>85.000000</td>\n",
              "      <td>1.628225e+12</td>\n",
              "      <td>8.000000</td>\n",
              "      <td>1.000000</td>\n",
              "      <td>6.000000</td>\n",
              "      <td>1.632367e+12</td>\n",
              "      <td>1.050000e+07</td>\n",
              "      <td>2.000000</td>\n",
              "      <td>700.0</td>\n",
              "      <td>4.420000e+09</td>\n",
              "      <td>1.635730e+12</td>\n",
              "      <td>2.000000</td>\n",
              "      <td>5.000000</td>\n",
              "      <td>0.000000</td>\n",
              "      <td>3.000000</td>\n",
              "      <td>0.0</td>\n",
              "      <td>0.0</td>\n",
              "      <td>3.000000</td>\n",
              "      <td>0.000000e+00</td>\n",
              "      <td>0.000000e+00</td>\n",
              "      <td>3.000000</td>\n",
              "      <td>NaN</td>\n",
              "      <td>NaN</td>\n",
              "      <td>NaN</td>\n",
              "    </tr>\n",
              "    <tr>\n",
              "      <th>max</th>\n",
              "      <td>54.000000</td>\n",
              "      <td>11000.000000</td>\n",
              "      <td>1.636948e+12</td>\n",
              "      <td>64.000000</td>\n",
              "      <td>3.000000</td>\n",
              "      <td>8.000000</td>\n",
              "      <td>1.636955e+12</td>\n",
              "      <td>1.819545e+14</td>\n",
              "      <td>3.000000</td>\n",
              "      <td>700.0</td>\n",
              "      <td>4.800000e+11</td>\n",
              "      <td>1.636955e+12</td>\n",
              "      <td>54.000000</td>\n",
              "      <td>8.000000</td>\n",
              "      <td>28572.000000</td>\n",
              "      <td>7.000000</td>\n",
              "      <td>0.0</td>\n",
              "      <td>0.0</td>\n",
              "      <td>3.000000</td>\n",
              "      <td>1.000000e+02</td>\n",
              "      <td>1.000000e+02</td>\n",
              "      <td>3.000000</td>\n",
              "      <td>NaN</td>\n",
              "      <td>NaN</td>\n",
              "      <td>NaN</td>\n",
              "    </tr>\n",
              "  </tbody>\n",
              "</table>\n",
              "</div>\n",
              "      <button class=\"colab-df-convert\" onclick=\"convertToInteractive('df-0c604e93-ac12-4c9f-9b2a-cd545622d7e9')\"\n",
              "              title=\"Convert this dataframe to an interactive table.\"\n",
              "              style=\"display:none;\">\n",
              "        \n",
              "  <svg xmlns=\"http://www.w3.org/2000/svg\" height=\"24px\"viewBox=\"0 0 24 24\"\n",
              "       width=\"24px\">\n",
              "    <path d=\"M0 0h24v24H0V0z\" fill=\"none\"/>\n",
              "    <path d=\"M18.56 5.44l.94 2.06.94-2.06 2.06-.94-2.06-.94-.94-2.06-.94 2.06-2.06.94zm-11 1L8.5 8.5l.94-2.06 2.06-.94-2.06-.94L8.5 2.5l-.94 2.06-2.06.94zm10 10l.94 2.06.94-2.06 2.06-.94-2.06-.94-.94-2.06-.94 2.06-2.06.94z\"/><path d=\"M17.41 7.96l-1.37-1.37c-.4-.4-.92-.59-1.43-.59-.52 0-1.04.2-1.43.59L10.3 9.45l-7.72 7.72c-.78.78-.78 2.05 0 2.83L4 21.41c.39.39.9.59 1.41.59.51 0 1.02-.2 1.41-.59l7.78-7.78 2.81-2.81c.8-.78.8-2.07 0-2.86zM5.41 20L4 18.59l7.72-7.72 1.47 1.35L5.41 20z\"/>\n",
              "  </svg>\n",
              "      </button>\n",
              "      \n",
              "  <style>\n",
              "    .colab-df-container {\n",
              "      display:flex;\n",
              "      flex-wrap:wrap;\n",
              "      gap: 12px;\n",
              "    }\n",
              "\n",
              "    .colab-df-convert {\n",
              "      background-color: #E8F0FE;\n",
              "      border: none;\n",
              "      border-radius: 50%;\n",
              "      cursor: pointer;\n",
              "      display: none;\n",
              "      fill: #1967D2;\n",
              "      height: 32px;\n",
              "      padding: 0 0 0 0;\n",
              "      width: 32px;\n",
              "    }\n",
              "\n",
              "    .colab-df-convert:hover {\n",
              "      background-color: #E2EBFA;\n",
              "      box-shadow: 0px 1px 2px rgba(60, 64, 67, 0.3), 0px 1px 3px 1px rgba(60, 64, 67, 0.15);\n",
              "      fill: #174EA6;\n",
              "    }\n",
              "\n",
              "    [theme=dark] .colab-df-convert {\n",
              "      background-color: #3B4455;\n",
              "      fill: #D2E3FC;\n",
              "    }\n",
              "\n",
              "    [theme=dark] .colab-df-convert:hover {\n",
              "      background-color: #434B5C;\n",
              "      box-shadow: 0px 1px 3px 1px rgba(0, 0, 0, 0.15);\n",
              "      filter: drop-shadow(0px 1px 2px rgba(0, 0, 0, 0.3));\n",
              "      fill: #FFFFFF;\n",
              "    }\n",
              "  </style>\n",
              "\n",
              "      <script>\n",
              "        const buttonEl =\n",
              "          document.querySelector('#df-0c604e93-ac12-4c9f-9b2a-cd545622d7e9 button.colab-df-convert');\n",
              "        buttonEl.style.display =\n",
              "          google.colab.kernel.accessAllowed ? 'block' : 'none';\n",
              "\n",
              "        async function convertToInteractive(key) {\n",
              "          const element = document.querySelector('#df-0c604e93-ac12-4c9f-9b2a-cd545622d7e9');\n",
              "          const dataTable =\n",
              "            await google.colab.kernel.invokeFunction('convertToInteractive',\n",
              "                                                     [key], {});\n",
              "          if (!dataTable) return;\n",
              "\n",
              "          const docLinkHtml = 'Like what you see? Visit the ' +\n",
              "            '<a target=\"_blank\" href=https://colab.research.google.com/notebooks/data_table.ipynb>data table notebook</a>'\n",
              "            + ' to learn more about interactive tables.';\n",
              "          element.innerHTML = '';\n",
              "          dataTable['output_type'] = 'display_data';\n",
              "          await google.colab.output.renderOutput(dataTable, element);\n",
              "          const docLink = document.createElement('div');\n",
              "          docLink.innerHTML = docLinkHtml;\n",
              "          element.appendChild(docLink);\n",
              "        }\n",
              "      </script>\n",
              "    </div>\n",
              "  </div>\n",
              "  "
            ],
            "text/plain": [
              "       num_bed_room          area  ...  bed_materials  kitchen_island_materials\n",
              "count  30313.000000  30323.000000  ...            0.0                       0.0\n",
              "mean       2.159305     86.989396  ...            NaN                       NaN\n",
              "std        1.489558    189.473231  ...            NaN                       NaN\n",
              "min        0.000000      0.000000  ...            NaN                       NaN\n",
              "25%        2.000000     53.200000  ...            NaN                       NaN\n",
              "50%        2.000000     69.000000  ...            NaN                       NaN\n",
              "75%        3.000000     85.000000  ...            NaN                       NaN\n",
              "max       54.000000  11000.000000  ...            NaN                       NaN\n",
              "\n",
              "[8 rows x 25 columns]"
            ]
          },
          "metadata": {},
          "execution_count": 64
        }
      ]
    },
    {
      "cell_type": "code",
      "source": [
        "data.info()"
      ],
      "metadata": {
        "colab": {
          "base_uri": "https://localhost:8080/"
        },
        "id": "sXQPoX-P6U_m",
        "outputId": "ded9a587-dffb-4b84-f90e-c4ad621a0dd9"
      },
      "execution_count": null,
      "outputs": [
        {
          "output_type": "stream",
          "name": "stdout",
          "text": [
            "<class 'pandas.core.frame.DataFrame'>\n",
            "RangeIndex: 30323 entries, 0 to 30322\n",
            "Columns: 166 entries, furniture_status to dining_table_and_chairs\n",
            "dtypes: bool(3), float64(19), int64(6), object(138)\n",
            "memory usage: 37.8+ MB\n"
          ]
        }
      ]
    },
    {
      "cell_type": "code",
      "metadata": {
        "id": "JrHVXo57z10D"
      },
      "source": [
        "# Convert data type boolean (True/False) to int (1/0)\n",
        "data = data*1"
      ],
      "execution_count": null,
      "outputs": []
    },
    {
      "cell_type": "code",
      "metadata": {
        "id": "tX0hXjmNW7Xo"
      },
      "source": [
        "# data_test = data.drop(index=data[data['rental_price_vnd'] < 1000000000].index)\n",
        "# corr_matrix = data_test.corr()\n",
        "# np.abs(corr_matrix['rental_price_vnd']).sort_values(ascending = False)"
      ],
      "execution_count": null,
      "outputs": []
    },
    {
      "cell_type": "code",
      "source": [
        "import pandas as pd\n",
        "from pandas_profiling import ProfileReport\n",
        "df_data_rental = data.drop(index=data[data['rental_price_vnd'] == 0].index)\n",
        "# profile = ProfileReport(\n",
        "#     df_data_rental, title=\"Pandas Profiling Report for Rever dataset rental\"\n",
        "# )\n",
        "# profile.to_file(\"./rever_dataset_rental.html\")"
      ],
      "metadata": {
        "id": "8l2grviOsGeb"
      },
      "execution_count": null,
      "outputs": []
    },
    {
      "cell_type": "code",
      "source": [
        "import pandas as pd\n",
        "from pandas_profiling import ProfileReport\n",
        "df_data_sell = data.drop(index=data[data['sell_price_vnd'] == 0].index)\n",
        "# profile = ProfileReport(\n",
        "#     df_data_sell, title=\"Pandas Profiling Report for Rever dataset sell\"\n",
        "# )\n",
        "# profile.to_file(\"./rever_dataset_sell.html\")"
      ],
      "metadata": {
        "id": "ru-LOf0Mslru"
      },
      "execution_count": null,
      "outputs": []
    },
    {
      "cell_type": "code",
      "metadata": {
        "id": "7Vvm25Kh89Bf",
        "colab": {
          "base_uri": "https://localhost:8080/"
        },
        "outputId": "8264c386-89b6-40e9-b893-4e54ca9dd9e5"
      },
      "source": [
        "category = ['furniture_status',\n",
        "       'property_type', 'direction', 'ownership',\n",
        "       'has_3d', 'service_type', \n",
        "       'balcony_direction', 'content_status',\n",
        "       'architectural_style', 'exclusive', \n",
        "       'pool', 'open24h', 'garage', 'sauna_bath',\n",
        "       'working_space', 'relax_room', 'elevator', 'gym', 'cable', 'internet', 'pet', 'steam_bath', \n",
        "       'smart_home', 'tv', 'fridge', 'store_house', 'smart_drying_rig',\n",
        "       'gas_stove', 'mini_bar', 'microwave', 'helper_room',\n",
        "       'washing_machine', 'oven', 'fire_detection', 'water_heater',\n",
        "       'password_lock', 'kitchen_hood', 'dryer', 'sound_equipment',\n",
        "       'air_conditioner', 'fingerprint_lock', 'security_camera', 'garden',\n",
        "       'magnetic_card_lock', 'city', 'floor_number', \n",
        "       'neighborhood_id', 'district_id', 'street_id', 'city_id', 'ward_id', \n",
        "       'kitchen_cabinet', 'bed', 'sofa',  'dining_table', 'balcony',\n",
        "       'kitchen_equipment', 'multimedia',\n",
        "       'makeup_table', 'wardrobe', 'kitchen', 'table', \n",
        "       'pillow_cushions', 'shoe_cabinet', 'washstand',\n",
        "       'kitchen_island', 'bathtub',\n",
        "       'bedside_cupboard', 'decorative_fight',\n",
        "       'wet_kitchen', 'tv_shelf',\n",
        "       'bookshelf', 'wall_cabinet', 'ceiling_light', 'toilet_bowl',\n",
        "       'wood_floor', 'kitchen_cabinet_above', 'table_lamp', 'dry_kitchen', 'tv_cabinet', 'liquor_cabinet']\n",
        "\n",
        "numeric = ['num_bath_room', 'num_bed_room', 'area']\n",
        "\n",
        "column = category + numeric + ['rental_price_vnd']\n",
        "column_sell = category + numeric + ['sell_price_vnd']\n",
        "\n",
        "df_data_rental = data.drop(index=data[data['rental_price_vnd'] == 0].index)\n",
        "df_data_rental = df_data_rental.drop(index=df_data_rental[df_data_rental['rental_price_vnd'] < 2000000].index)\n",
        "df_data_rental = df_data_rental.drop(index=df_data_rental[df_data_rental['rental_price_vnd'] > 500000000].index)\n",
        "df_data_rental = df_data_rental[column]\n",
        "\n",
        "df_data_sell = data.drop(index=data[data['sell_price_vnd'] == 0].index)\n",
        "df_data_sell = df_data_sell.drop(index=df_data_sell[df_data_sell['sell_price_vnd'] < 100000000].index)\n",
        "df_data_sell = df_data_sell.drop(index=df_data_sell[df_data_sell['sell_price_vnd'] > 100000000000].index)\n",
        "df_data_sell = df_data_sell[column_sell]\n",
        "# imputer = KNNImputer(n_neighbors=5, weights='uniform', metric='nan_euclidean')\n",
        "# # df_data_rental.fillna(df_data_rental.mode().iloc[0], inplace=True)\n",
        "# df_data_rental = imputer.fit(df_data_rental)\n",
        "print(df_data_sell.shape)\n",
        "df_data_sell[\"sell_price_vnd\"].describe()"
      ],
      "execution_count": null,
      "outputs": [
        {
          "output_type": "stream",
          "name": "stdout",
          "text": [
            "(21774, 85)\n"
          ]
        },
        {
          "output_type": "execute_result",
          "data": {
            "text/plain": [
              "count    2.177400e+04\n",
              "mean     4.893738e+09\n",
              "std      5.059891e+09\n",
              "min      1.000000e+08\n",
              "25%      2.450000e+09\n",
              "50%      3.450000e+09\n",
              "75%      5.400000e+09\n",
              "max      9.900000e+10\n",
              "Name: sell_price_vnd, dtype: float64"
            ]
          },
          "metadata": {},
          "execution_count": 70
        }
      ]
    },
    {
      "cell_type": "code",
      "source": [
        "# df_test = df_data_rental[df_data_rental['property_type'] == 64]\n",
        "# df_test[\"rental_price_vnd\"].describe()"
      ],
      "metadata": {
        "id": "dBdhyL3flVtP"
      },
      "execution_count": null,
      "outputs": []
    },
    {
      "cell_type": "code",
      "metadata": {
        "id": "x2akYmZB0kRy",
        "colab": {
          "base_uri": "https://localhost:8080/",
          "height": 499
        },
        "outputId": "fc39fc4b-5657-425d-94c7-36bde26a0106"
      },
      "source": [
        "%matplotlib inline\n",
        "df_data_rental['rental_price_vnd'].hist(figsize = (10, 8))\n",
        "plt.show()"
      ],
      "execution_count": null,
      "outputs": [
        {
          "output_type": "display_data",
          "data": {
            "image/png": "[encoded data removed]",
            "text/plain": [
              "<Figure size 720x576 with 1 Axes>"
            ]
          },
          "metadata": {
            "needs_background": "light"
          }
        }
      ]
    },
    {
      "cell_type": "code",
      "source": [
        "%matplotlib inline\n",
        "df_data_sell['sell_price_vnd'].hist(figsize = (10, 8))\n",
        "plt.show()"
      ],
      "metadata": {
        "colab": {
          "base_uri": "https://localhost:8080/",
          "height": 499
        },
        "id": "v1Jx6yq16fm0",
        "outputId": "21a7504a-37b5-4e76-fc0b-ac2e77801018"
      },
      "execution_count": null,
      "outputs": [
        {
          "output_type": "display_data",
          "data": {
            "image/png": "[encoded data removed]",
            "text/plain": [
              "<Figure size 720x576 with 1 Axes>"
            ]
          },
          "metadata": {
            "needs_background": "light"
          }
        }
      ]
    },
    {
      "cell_type": "markdown",
      "source": [
        "# Select feature and Preprocess data\n"
      ],
      "metadata": {
        "id": "jZjvBRdLVVKL"
      }
    },
    {
      "cell_type": "code",
      "metadata": {
        "id": "YrNyUxLu1ES9",
        "colab": {
          "base_uri": "https://localhost:8080/"
        },
        "outputId": "dddfad2e-3ee2-4da5-eec6-aac2ceabaa55"
      },
      "source": [
        "# create correlation matrix \n",
        "corr_matrix_rental = df_data_rental.corr()\n",
        "np.abs(corr_matrix_rental['rental_price_vnd']).sort_values(ascending = True)"
      ],
      "execution_count": null,
      "outputs": [
        {
          "output_type": "execute_result",
          "data": {
            "text/plain": [
              "direction              0.004535\n",
              "service_type           0.009770\n",
              "architectural_style    0.057481\n",
              "has_3d                 0.083212\n",
              "balcony_direction      0.091061\n",
              "property_type          0.159893\n",
              "num_bed_room           0.189368\n",
              "num_bath_room          0.212661\n",
              "content_status         0.272377\n",
              "area                   0.360850\n",
              "rental_price_vnd       1.000000\n",
              "Name: rental_price_vnd, dtype: float64"
            ]
          },
          "metadata": {},
          "execution_count": 74
        }
      ]
    },
    {
      "cell_type": "code",
      "metadata": {
        "id": "htfrH3jV7S1w"
      },
      "source": [
        "# Convert data in category column to category type\n",
        "for i in category: \n",
        "  df_data_rental[i] = df_data_rental[i].astype('category').cat.codes\n",
        "\n",
        "for i in category: \n",
        "  df_data_sell[i] = df_data_sell[i].astype('category').cat.codes"
      ],
      "execution_count": null,
      "outputs": []
    },
    {
      "cell_type": "code",
      "source": [
        "df_data_rental.isnull().sum().sort_values(ascending=False)"
      ],
      "metadata": {
        "id": "5e88OU7vQL4-",
        "colab": {
          "base_uri": "https://localhost:8080/"
        },
        "outputId": "c2d7d35b-a33c-4db9-b214-e0fae38bd0f7"
      },
      "execution_count": null,
      "outputs": [
        {
          "output_type": "execute_result",
          "data": {
            "text/plain": [
              "num_bed_room         2\n",
              "num_bath_room        2\n",
              "rental_price_vnd     0\n",
              "helper_room          0\n",
              "smart_home           0\n",
              "                    ..\n",
              "kitchen_equipment    0\n",
              "multimedia           0\n",
              "makeup_table         0\n",
              "wardrobe             0\n",
              "furniture_status     0\n",
              "Length: 85, dtype: int64"
            ]
          },
          "metadata": {},
          "execution_count": 76
        }
      ]
    },
    {
      "cell_type": "code",
      "source": [
        "df_data_sell.isnull().sum().sort_values(ascending=False)"
      ],
      "metadata": {
        "colab": {
          "base_uri": "https://localhost:8080/"
        },
        "id": "gfHoTi0iWN-_",
        "outputId": "505040ed-6b56-43c6-9dba-893123a6169f"
      },
      "execution_count": null,
      "outputs": [
        {
          "output_type": "execute_result",
          "data": {
            "text/plain": [
              "num_bed_room         8\n",
              "num_bath_room        8\n",
              "sell_price_vnd       0\n",
              "helper_room          0\n",
              "smart_home           0\n",
              "                    ..\n",
              "kitchen_equipment    0\n",
              "multimedia           0\n",
              "makeup_table         0\n",
              "wardrobe             0\n",
              "furniture_status     0\n",
              "Length: 85, dtype: int64"
            ]
          },
          "metadata": {},
          "execution_count": 77
        }
      ]
    },
    {
      "cell_type": "code",
      "metadata": {
        "id": "0Ewrlb-hlA6C"
      },
      "source": [
        "#Replace missing value by K-nearest-neighbor algorithm\n",
        "_data_rental = df_data_rental.drop(\"rental_price_vnd\", axis = 1).replace(-1, np.NaN)\n",
        "rental_imputer = KNNImputer(n_neighbors=1, weights='uniform', metric='nan_euclidean')\n",
        "data_rental = rental_imputer.fit_transform(_data_rental.values)\n",
        "data_rental = pd.DataFrame(data_rental, index=_data_rental.index, columns=_data_rental.columns)"
      ],
      "execution_count": null,
      "outputs": []
    },
    {
      "cell_type": "code",
      "source": [
        "joblib.dump(rental_imputer, \"/content/drive/MyDrive/Colab Notebooks/Rever_Predict_House_Value/rental_imputer.joblib\")\n",
        "joblib.dump(rental_imputer, \"/content/drive/MyDrive/Colab Notebooks/Rever_Predict_House_Value/rental_imputer.pkl\")"
      ],
      "metadata": {
        "colab": {
          "base_uri": "https://localhost:8080/"
        },
        "id": "XPn0zTofGbt4",
        "outputId": "67d3fdda-99fd-4dd2-863b-9529307fa4df"
      },
      "execution_count": null,
      "outputs": [
        {
          "output_type": "execute_result",
          "data": {
            "text/plain": [
              "['/content/drive/MyDrive/Colab Notebooks/Rever_Predict_House_Value/rental_imputer.pkl']"
            ]
          },
          "metadata": {},
          "execution_count": 79
        }
      ]
    },
    {
      "cell_type": "code",
      "source": [
        "_data_sell = df_data_sell.drop(\"sell_price_vnd\", axis = 1).replace(-1, np.NaN)\n",
        "sell_imputer = KNNImputer(n_neighbors=1, weights='uniform', metric='nan_euclidean')\n",
        "data_sell = sell_imputer.fit_transform(_data_sell.values)\n",
        "data_sell = pd.DataFrame(data_sell, index=_data_sell.index, columns=_data_sell.columns)"
      ],
      "metadata": {
        "id": "-GcD7-YaZppH"
      },
      "execution_count": null,
      "outputs": []
    },
    {
      "cell_type": "code",
      "source": [
        "joblib.dump(sell_imputer, \"/content/drive/MyDrive/Colab Notebooks/Rever_Predict_House_Value/sell_imputer.joblib\")\n",
        "joblib.dump(sell_imputer, \"/content/drive/MyDrive/Colab Notebooks/Rever_Predict_House_Value/sell_imputer.pkl\")"
      ],
      "metadata": {
        "colab": {
          "base_uri": "https://localhost:8080/"
        },
        "id": "DhXKuTAgGdaO",
        "outputId": "767d82eb-3f20-46e3-dcf0-c8633d6f4793"
      },
      "execution_count": null,
      "outputs": [
        {
          "output_type": "execute_result",
          "data": {
            "text/plain": [
              "['/content/drive/MyDrive/Colab Notebooks/Rever_Predict_House_Value/sell_imputer.pkl']"
            ]
          },
          "metadata": {},
          "execution_count": 81
        }
      ]
    },
    {
      "cell_type": "code",
      "source": [
        "# sell_imputer.shape"
      ],
      "metadata": {
        "id": "W10YXU8Jta5Q"
      },
      "execution_count": null,
      "outputs": []
    },
    {
      "cell_type": "markdown",
      "source": [
        "# Prepare data for training"
      ],
      "metadata": {
        "id": "k4Y_aPK6XlWt"
      }
    },
    {
      "cell_type": "code",
      "metadata": {
        "id": "poQLvIiSQ9MX",
        "colab": {
          "base_uri": "https://localhost:8080/"
        },
        "outputId": "6712d345-ae9d-4ac6-e67c-354ea80be376"
      },
      "source": [
        "X_rental= data_rental\n",
        "y_rental= df_data_rental['rental_price_vnd']\n",
        "\n",
        "X_sell= data_sell\n",
        "y_sell= df_data_sell['sell_price_vnd']\n",
        "\n",
        "X_sell.shape"
      ],
      "execution_count": null,
      "outputs": [
        {
          "output_type": "execute_result",
          "data": {
            "text/plain": [
              "(21774, 84)"
            ]
          },
          "metadata": {},
          "execution_count": 83
        }
      ]
    },
    {
      "cell_type": "code",
      "metadata": {
        "id": "dGC0mS6nyFGA"
      },
      "source": [
        "# # df_data_rental.fillna(df_data_rental.mode().iloc[0], inplace=True)\n",
        "sell_pipeline = ColumnTransformer([\n",
        "        (\"cat\", OneHotEncoder(), category),\n",
        "    ])\n",
        "X_sell = sell_pipeline.fit_transform(pd.DataFrame(X_sell))"
      ],
      "execution_count": null,
      "outputs": []
    },
    {
      "cell_type": "code",
      "source": [
        "rental_pipeline = ColumnTransformer([\n",
        "        (\"cat\", OneHotEncoder(), category),\n",
        "    ])\n",
        "X_rental = rental_pipeline.fit_transform(pd.DataFrame(X_rental))"
      ],
      "metadata": {
        "id": "f2wLugYxS8xb"
      },
      "execution_count": null,
      "outputs": []
    },
    {
      "cell_type": "code",
      "source": [
        "joblib.dump(sell_pipeline, \"/content/drive/MyDrive/Colab Notebooks/Rever_Predict_House_Value/sell_pipeline.joblib\")\n",
        "joblib.dump(rental_pipeline, \"/content/drive/MyDrive/Colab Notebooks/Rever_Predict_House_Value/rental_pipeline.joblib\")"
      ],
      "metadata": {
        "colab": {
          "base_uri": "https://localhost:8080/"
        },
        "id": "mrCxV39WQ5Zu",
        "outputId": "5d52240e-135d-463d-e1b7-4f522beaa87d"
      },
      "execution_count": null,
      "outputs": [
        {
          "output_type": "execute_result",
          "data": {
            "text/plain": [
              "['/content/drive/MyDrive/Colab Notebooks/Rever_Predict_House_Value/rental_pipeline.joblib']"
            ]
          },
          "metadata": {},
          "execution_count": 86
        }
      ]
    },
    {
      "cell_type": "code",
      "metadata": {
        "id": "JvNg5yfwKG_c"
      },
      "source": [
        "# Seperate data to train and test\n",
        "X_rental_train, X_rental_test, y_rental_train, y_rental_test = train_test_split(X_rental, y_rental, test_size = 0.2, random_state = 42)\n",
        "X_sell_train, X_sell_test, y_sell_train, y_sell_test = train_test_split(X_sell, y_sell, test_size = 0.2, random_state = 42)"
      ],
      "execution_count": null,
      "outputs": []
    },
    {
      "cell_type": "code",
      "source": [
        "def display_scores(scores):\n",
        "    print(\"Scores:\", scores)\n",
        "    print(\"Mean:\", scores.mean())\n",
        "    print(\"Standard deviation:\", scores.std())"
      ],
      "metadata": {
        "id": "x0X_yxFrzONk"
      },
      "execution_count": null,
      "outputs": []
    },
    {
      "cell_type": "markdown",
      "source": [
        "# Training rental price\n",
        "\n"
      ],
      "metadata": {
        "id": "AYWKoGWlX2bR"
      }
    },
    {
      "cell_type": "code",
      "metadata": {
        "id": "tIBD9x8ErmMv"
      },
      "source": [
        "# Use Linear Regression\n",
        "lin_reg = LinearRegression()\n",
        "lin_reg.fit(X_rental_train, y_rental_train)\n",
        "# lin_scores = cross_val_score(lin_reg, X_rental, y_rental,\n",
        "#                              scoring=\"neg_mean_squared_error\", cv=5)\n",
        "# lin_reg_score = lin_reg.score(X_rental_test, y_rental_test)\n",
        "# lin_scores = np.sqrt(-lin_scores)\n",
        "# display_scores(lin_scores)\n",
        "import math\n",
        "y_rental_test_list = y_rental_test.tolist()\n",
        "y_rental_predict = lin_reg.predict(X_rental_test)\n",
        "sum_rental_lin = 0\n",
        "for index in range(len(y_rental_test)):\n",
        "  sum_rental_lin += (y_rental_predict[index] - y_rental_test_list[index])**2\n",
        "mse_rental_lin = sum_rental_lin/len(y_rental_test)\n",
        "rmse_rental_lin = math.sqrt(mse_rental_lin)"
      ],
      "execution_count": null,
      "outputs": []
    },
    {
      "cell_type": "code",
      "source": [
        "print(mse_rental_lin)\n",
        "print(rmse_rental_lin)"
      ],
      "metadata": {
        "colab": {
          "base_uri": "https://localhost:8080/"
        },
        "id": "LJy5SvJryMwY",
        "outputId": "1acb4392-c8b2-4a2a-cbb2-57c8f4794630"
      },
      "execution_count": null,
      "outputs": [
        {
          "output_type": "stream",
          "name": "stdout",
          "text": [
            "219893453856614.44\n",
            "14828804.869463164\n"
          ]
        }
      ]
    },
    {
      "cell_type": "code",
      "source": [
        "joblib.dump(lin_reg, \"/content/drive/MyDrive/Colab Notebooks/Rever_Predict_House_Value/rental_lin_reg.joblib\")"
      ],
      "metadata": {
        "colab": {
          "base_uri": "https://localhost:8080/"
        },
        "id": "3Ye-eq3SGjA1",
        "outputId": "fb5ce8e0-5bc0-44e2-bf5d-fdfa6a36c280"
      },
      "execution_count": null,
      "outputs": [
        {
          "output_type": "execute_result",
          "data": {
            "text/plain": [
              "['/content/drive/MyDrive/Colab Notebooks/Rever_Predict_House_Value/rental_lin_reg.joblib']"
            ]
          },
          "metadata": {},
          "execution_count": 135
        }
      ]
    },
    {
      "cell_type": "code",
      "metadata": {
        "id": "uB3Ng9opMgjr"
      },
      "source": [
        "# housing_prediction = lin_reg.predict(X_rental_train)\n",
        "# tree_mse = mean_squared_error(y_rental_train,housing_prediction)\n",
        "# tree_rmse = np.sqrt(tree_mse)\n",
        "# print(\"tree_rmse: \", tree_rmse)"
      ],
      "execution_count": null,
      "outputs": []
    },
    {
      "cell_type": "code",
      "metadata": {
        "id": "XkgABeRVL1ur"
      },
      "source": [
        "# Use Decision Tree Regressor\n",
        "tree_reg = DecisionTreeRegressor()\n",
        "tree_reg.fit(X_rental_train, y_rental_train)\n",
        "# tree_score = cross_val_score(tree_reg, X_rental_test, y_rental_test,\n",
        "#                              scoring=\"neg_mean_squared_error\", cv=100)\n",
        "# tree_score = np.sqrt(-tree_score)\n",
        "# display_scores(tree_score)\n",
        "y_rental_predict = tree_reg.predict(X_rental_test)\n",
        "sum_rental_tree = 0\n",
        "for index in range(len(y_rental_test)):\n",
        "  sum_rental_tree += (y_rental_predict[index] - y_rental_test_list[index])**2\n",
        "mse_rental_tree = sum_rental_tree/len(y_rental_test)\n",
        "rmse_rental_tree = math.sqrt(mse_rental_tree)"
      ],
      "execution_count": null,
      "outputs": []
    },
    {
      "cell_type": "code",
      "source": [
        "print(mse_rental_tree)\n",
        "print(rmse_rental_tree)"
      ],
      "metadata": {
        "colab": {
          "base_uri": "https://localhost:8080/"
        },
        "id": "ZaIPsNSX1ImP",
        "outputId": "0e7e3200-8ce3-410d-cf30-165cea5c2a9f"
      },
      "execution_count": null,
      "outputs": [
        {
          "output_type": "stream",
          "name": "stdout",
          "text": [
            "227954213684262.16\n",
            "15098152.657999659\n"
          ]
        }
      ]
    },
    {
      "cell_type": "code",
      "source": [
        "joblib.dump(tree_reg, \"/content/drive/MyDrive/Colab Notebooks/Rever_Predict_House_Value/rental_tree_reg.joblib\")"
      ],
      "metadata": {
        "colab": {
          "base_uri": "https://localhost:8080/"
        },
        "id": "ONnOLYhtGvjV",
        "outputId": "7ba74eb3-5f0c-4051-cd1b-ea4587bc5d06"
      },
      "execution_count": null,
      "outputs": [
        {
          "output_type": "execute_result",
          "data": {
            "text/plain": [
              "['/content/drive/MyDrive/Colab Notebooks/Rever_Predict_House_Value/rental_tree_reg.joblib']"
            ]
          },
          "metadata": {},
          "execution_count": 136
        }
      ]
    },
    {
      "cell_type": "code",
      "metadata": {
        "id": "qwvZ_HlrMWg4"
      },
      "source": [
        "# housing_prediction = tree_reg.predict(X_rental_train)\n",
        "# tree_mse = mean_squared_error(y_rental_train,housing_prediction)\n",
        "# tree_rmse = np.sqrt(tree_mse)\n",
        "# print(\"tree_rmse: \", tree_rmse)"
      ],
      "execution_count": null,
      "outputs": []
    },
    {
      "cell_type": "code",
      "metadata": {
        "id": "plpuqAwiwFhS"
      },
      "source": [
        "# Select hyper parameter for Random Forest Regressor\n",
        "# param_grid = {'n_estimators': [100,300, 500],'max_depth': [None], 'max_features':['auto','log2','sqrt']}\n",
        "# rf_grid = GridSearchCV(RandomForestRegressor(random_state=13, n_jobs=-1), param_grid, cv=4)\n",
        "# rf_grid.fit(X_rental_train, y_rental_train)\n",
        "# print(rf_grid.best_estimator_)\n",
        "# print(rf_grid.best_params_)\n",
        "# rf_score = rf_grid.best_score_\n",
        "# print(rf_score) "
      ],
      "execution_count": null,
      "outputs": []
    },
    {
      "cell_type": "code",
      "metadata": {
        "id": "v6WD_kk5xoms"
      },
      "source": [
        "# display_scores(rf_score)"
      ],
      "execution_count": null,
      "outputs": []
    },
    {
      "cell_type": "code",
      "metadata": {
        "id": "VvtA9SUtru2f"
      },
      "source": [
        "# Use Random Forest Regressor\n",
        "forest_reg = RandomForestRegressor(max_features='log2', n_estimators=300, n_jobs=-1, random_state=13)\n",
        "forest_reg.fit(X_rental_train, y_rental_train)\n",
        "# forest_scores = cross_val_score(forest_reg, X_rental_test, y_rental_test, scoring = \"neg_mean_squared_error\", cv = 100)\n",
        "# forest_scores = np.sqrt(-forest_scores)\n",
        "# display_scores(forest_scores)\n",
        "y_rental_predict = forest_reg.predict(X_rental_test)\n",
        "sum_rental_forest = 0\n",
        "for index in range(len(y_rental_test)):\n",
        "  sum_rental_forest += (y_rental_predict[index] - y_rental_test_list[index])**2\n",
        "mse_rental_forest = sum_rental_forest/len(y_rental_test)\n",
        "rmse_rental_forest = math.sqrt(mse_rental_forest)"
      ],
      "execution_count": null,
      "outputs": []
    },
    {
      "cell_type": "code",
      "source": [
        "print(mse_rental_forest)\n",
        "print(rmse_rental_forest)"
      ],
      "metadata": {
        "colab": {
          "base_uri": "https://localhost:8080/"
        },
        "id": "RqYd4XYS2dhA",
        "outputId": "1a746e11-5f59-4173-9605-44f60f5f600b"
      },
      "execution_count": null,
      "outputs": [
        {
          "output_type": "stream",
          "name": "stdout",
          "text": [
            "107585926250850.95\n",
            "10372363.58072985\n"
          ]
        }
      ]
    },
    {
      "cell_type": "code",
      "source": [
        "joblib.dump(forest_reg, \"/content/drive/MyDrive/Colab Notebooks/Rever_Predict_House_Value/rental_forest_reg.joblib\")"
      ],
      "metadata": {
        "colab": {
          "base_uri": "https://localhost:8080/"
        },
        "id": "byVOZ0G1G0Xd",
        "outputId": "165a7e95-c61e-488d-b48a-1eca0ee61c60"
      },
      "execution_count": null,
      "outputs": [
        {
          "output_type": "execute_result",
          "data": {
            "text/plain": [
              "['/content/drive/MyDrive/Colab Notebooks/Rever_Predict_House_Value/rental_forest_reg.joblib']"
            ]
          },
          "metadata": {},
          "execution_count": 137
        }
      ]
    },
    {
      "cell_type": "markdown",
      "source": [
        "# Training sell price"
      ],
      "metadata": {
        "id": "iCbBF_A0SUC5"
      }
    },
    {
      "cell_type": "code",
      "source": [
        "# Use Linear Regression\n",
        "lin_reg_sell = LinearRegression()\n",
        "lin_reg_sell.fit(X_sell_train, y_sell_train)\n",
        "# lin_scores_sell = cross_val_score(lin_reg_sell, X_sell_test, y_sell_test,\n",
        "#                              scoring=\"neg_mean_squared_error\", cv=100)\n",
        "# lin_scores_sell = np.sqrt(-lin_scores_sell)\n",
        "# display_scores(lin_scores_sell)\n",
        "y_sell_test_list = y_sell_test.tolist()\n",
        "y_sell_predict = lin_reg_sell.predict(X_sell_test)\n",
        "sum_sell_lin = 0\n",
        "for index in range(len(y_sell_test)):\n",
        "  sum_sell_lin += (y_sell_predict[index] - y_sell_test_list[index])**2\n",
        "mse_sell_lin = sum_sell_lin/len(y_sell_test)\n",
        "rmse_sell_lin = math.sqrt(mse_sell_lin)"
      ],
      "metadata": {
        "id": "bzyy1P5phbBk"
      },
      "execution_count": null,
      "outputs": []
    },
    {
      "cell_type": "code",
      "source": [
        "print(mse_sell_lin)\n",
        "print(rmse_sell_lin)"
      ],
      "metadata": {
        "colab": {
          "base_uri": "https://localhost:8080/"
        },
        "id": "UtLmEG3G475A",
        "outputId": "70944943-24ed-43f6-bb61-3f8f713a2385"
      },
      "execution_count": null,
      "outputs": [
        {
          "output_type": "stream",
          "name": "stdout",
          "text": [
            "1.7490699473622895e+19\n",
            "4182188359.4145894\n"
          ]
        }
      ]
    },
    {
      "cell_type": "code",
      "source": [
        "joblib.dump(lin_reg_sell, \"/content/drive/MyDrive/Colab Notebooks/Rever_Predict_House_Value/sell_lin_reg.joblib\")"
      ],
      "metadata": {
        "colab": {
          "base_uri": "https://localhost:8080/"
        },
        "id": "OspRS7B1G4Fw",
        "outputId": "1b553612-c61a-407b-922b-cf972a7af3ca"
      },
      "execution_count": null,
      "outputs": [
        {
          "output_type": "execute_result",
          "data": {
            "text/plain": [
              "['/content/drive/MyDrive/Colab Notebooks/Rever_Predict_House_Value/sell_lin_reg.joblib']"
            ]
          },
          "metadata": {},
          "execution_count": 138
        }
      ]
    },
    {
      "cell_type": "code",
      "source": [
        "# Use Decision Tree Regressor\n",
        "tree_reg_sell = DecisionTreeRegressor()\n",
        "tree_reg_sell.fit(X_sell_train, y_sell_train)\n",
        "# tree_score_sell = cross_val_score(tree_reg_sell, X_sell_test, y_sell_test,\n",
        "#                              scoring=\"neg_mean_squared_error\", cv=100)\n",
        "# tree_score_sell = np.sqrt(-tree_score_sell)\n",
        "# display_scores(tree_score_sell)\n",
        "y_sell_predict = tree_reg_sell.predict(X_sell_test)\n",
        "sum_sell_tree = 0\n",
        "for index in range(len(y_sell_test)):\n",
        "  sum_sell_tree += (y_sell_predict[index] - y_sell_test_list[index])**2\n",
        "mse_sell_tree = sum_sell_tree/len(y_sell_test)\n",
        "rmse_sell_tree = math.sqrt(mse_sell_tree)"
      ],
      "metadata": {
        "id": "6RDujol4HRDU"
      },
      "execution_count": null,
      "outputs": []
    },
    {
      "cell_type": "code",
      "source": [
        "print(mse_sell_tree)\n",
        "print(rmse_sell_tree)"
      ],
      "metadata": {
        "colab": {
          "base_uri": "https://localhost:8080/"
        },
        "id": "tRONVb-N5atK",
        "outputId": "dd2ece78-836e-4701-ef5b-7ac38366a349"
      },
      "execution_count": null,
      "outputs": [
        {
          "output_type": "stream",
          "name": "stdout",
          "text": [
            "1.785498076113851e+19\n",
            "4225515443.2493215\n"
          ]
        }
      ]
    },
    {
      "cell_type": "code",
      "source": [
        "joblib.dump(tree_reg_sell, \"/content/drive/MyDrive/Colab Notebooks/Rever_Predict_House_Value/sell_tree_reg.joblib\")"
      ],
      "metadata": {
        "colab": {
          "base_uri": "https://localhost:8080/"
        },
        "id": "KsnQlQyXHTjw",
        "outputId": "917c9f61-b51e-47ce-dd27-a3678040f17b"
      },
      "execution_count": null,
      "outputs": [
        {
          "output_type": "execute_result",
          "data": {
            "text/plain": [
              "['/content/drive/MyDrive/Colab Notebooks/Rever_Predict_House_Value/sell_tree_reg.joblib']"
            ]
          },
          "metadata": {},
          "execution_count": 139
        }
      ]
    },
    {
      "cell_type": "code",
      "source": [
        "# Select hyper parameter for Random Forest Regressor\n",
        "param_grid = {'n_estimators': [100,300, 500],'max_depth': [None], 'max_features':['auto','log2','sqrt']}\n",
        "rf_grid = GridSearchCV(RandomForestRegressor(random_state=13, n_jobs=-1), param_grid, cv=4)\n",
        "rf_grid.fit(X_sell_train[:1000], y_sell_train[:1000])\n",
        "print(rf_grid.best_estimator_)\n",
        "print(rf_grid.best_params_)\n",
        "rf_score = rf_grid.best_score_\n",
        "print(rf_score)"
      ],
      "metadata": {
        "colab": {
          "base_uri": "https://localhost:8080/"
        },
        "id": "8_5Smfl76N1-",
        "outputId": "c49cb91a-4acf-4da2-b677-2b47ea18d7fb"
      },
      "execution_count": null,
      "outputs": [
        {
          "output_type": "stream",
          "name": "stdout",
          "text": [
            "RandomForestRegressor(n_estimators=300, n_jobs=-1, random_state=13)\n",
            "{'max_depth': None, 'max_features': 'auto', 'n_estimators': 300}\n",
            "0.22086436911629004\n"
          ]
        }
      ]
    },
    {
      "cell_type": "code",
      "source": [
        "# Use Random Forest Regressor\n",
        "forest_reg_sell = RandomForestRegressor(max_features='auto', n_estimators=100, n_jobs=-1, random_state=13)\n",
        "forest_reg_sell.fit(X_sell_train, y_sell_train)\n",
        "# forest_scores_sell = cross_val_score(forest_reg_sell, X_sell_test, y_sell_test, scoring = \"neg_mean_squared_error\", cv = 100)\n",
        "# forest_scores_sell = np.sqrt(-forest_scores_sell)\n",
        "# display_scores(forest_scores_sell)\n",
        "y_sell_predict = forest_reg_sell.predict(X_sell_test)\n",
        "sum_sell_forest = 0\n",
        "for index in range(len(y_sell_test)):\n",
        "  sum_sell_forest += (y_sell_predict[index] - y_sell_test_list[index])**2\n",
        "mse_sell_forest = sum_sell_forest/len(y_sell_test)\n",
        "rmse_sell_forest = math.sqrt(mse_sell_forest)"
      ],
      "metadata": {
        "id": "vSHXk8RaTUCb"
      },
      "execution_count": null,
      "outputs": []
    },
    {
      "cell_type": "code",
      "source": [
        "print(mse_sell_forest)\n",
        "print(rmse_sell_forest)"
      ],
      "metadata": {
        "colab": {
          "base_uri": "https://localhost:8080/"
        },
        "id": "WZ7NWt9_6Qbj",
        "outputId": "918c2538-d355-4bd2-9904-cc21b9694194"
      },
      "execution_count": null,
      "outputs": [
        {
          "output_type": "stream",
          "name": "stdout",
          "text": [
            "1.0399289407553296e+19\n",
            "3224792924.7555256\n"
          ]
        }
      ]
    },
    {
      "cell_type": "code",
      "source": [
        "joblib.dump(forest_reg_sell, \"/content/drive/MyDrive/Colab Notebooks/Rever_Predict_House_Value/sell_forest_reg.joblib\")"
      ],
      "metadata": {
        "colab": {
          "base_uri": "https://localhost:8080/"
        },
        "id": "SuzFT6KJHDxT",
        "outputId": "f06be9aa-8bc7-4544-b0a9-138857d616ad"
      },
      "execution_count": null,
      "outputs": [
        {
          "output_type": "execute_result",
          "data": {
            "text/plain": [
              "['/content/drive/MyDrive/Colab Notebooks/Rever_Predict_House_Value/sell_forest_reg.joblib']"
            ]
          },
          "metadata": {},
          "execution_count": 140
        }
      ]
    },
    {
      "cell_type": "markdown",
      "source": [
        "# Predict value\n"
      ],
      "metadata": {
        "id": "nlF809PaOdnX"
      }
    },
    {
      "cell_type": "code",
      "source": [
        "imputer_path = \"/content/drive/MyDrive/Colab Notebooks/Rever_Predict_House_Value/sell_imputer.joblib\"\n",
        "sell_forest_reg_path = \"/content/drive/MyDrive/Colab Notebooks/Rever_Predict_House_Value/sell_forest_reg.joblib\"\n",
        "sell_lin_reg_path = \"/content/drive/MyDrive/Colab Notebooks/Rever_Predict_House_Value/sell_lin_reg.joblib\"\n",
        "sell_tree_reg_path = \"/content/drive/MyDrive/Colab Notebooks/Rever_Predict_House_Value/sell_tree_reg.joblib\"\n",
        "pipeline_path = \"/content/drive/MyDrive/Colab Notebooks/Rever_Predict_House_Value/sell_pipeline.joblib\"\n",
        "\n",
        "\n",
        "category = ['furniture_status',\n",
        "     'property_type', 'direction', 'ownership',\n",
        "     'has_3d', 'service_type', \n",
        "     'balcony_direction', 'content_status',\n",
        "     'architectural_style', 'exclusive', \n",
        "     'pool', 'open24h', 'garage', 'sauna_bath',\n",
        "     'working_space', 'relax_room', 'elevator', 'gym', 'cable', 'internet', 'pet', 'steam_bath', \n",
        "     'smart_home', 'tv', 'fridge', 'store_house', 'smart_drying_rig',\n",
        "     'gas_stove', 'mini_bar', 'microwave', 'helper_room',\n",
        "     'washing_machine', 'oven', 'fire_detection', 'water_heater',\n",
        "     'password_lock', 'kitchen_hood', 'dryer', 'sound_equipment',\n",
        "     'air_conditioner', 'fingerprint_lock', 'security_camera', 'garden',\n",
        "     'magnetic_card_lock', 'city', 'floor_number', \n",
        "     'neighborhood_id', 'district_id', 'street_id', 'city_id', 'ward_id', \n",
        "     'kitchen_cabinet', 'bed', 'sofa',  'dining_table', 'balcony',\n",
        "     'kitchen_equipment', 'multimedia',\n",
        "     'makeup_table', 'wardrobe', 'kitchen', 'table', \n",
        "     'pillow_cushions', 'shoe_cabinet', 'washstand',\n",
        "     'kitchen_island', 'bathtub',\n",
        "     'bedside_cupboard', 'decorative_fight',\n",
        "     'wet_kitchen', 'tv_shelf',\n",
        "     'bookshelf', 'wall_cabinet', 'ceiling_light', 'toilet_bowl',\n",
        "     'wood_floor', 'kitchen_cabinet_above', 'table_lamp', 'dry_kitchen', 'tv_cabinet', 'liquor_cabinet']\n",
        "\n",
        "numeric = ['num_bath_room', 'num_bed_room', 'area']\n",
        "\n",
        "def predict_sell_value(x, imputer_path = imputer_path, model_path = sell_forest_reg_path): \n",
        "  column_sell = category + numeric\n",
        "  df_data_sell = x[column_sell]\n",
        "  for i in category: \n",
        "    df_data_sell[i] = df_data_sell[i].astype('category').cat.codes\n",
        "  \n",
        "  imputer = joblib.load(imputer_path)\n",
        "  df_data_sell = df_data_sell.replace(-1, np.NaN)\n",
        "  sell_imputer = imputer.transform(df_data_sell.values)\n",
        "  data_sell = pd.DataFrame(sell_imputer, index=df_data_sell.index, columns=df_data_sell.columns)\n",
        "\n",
        "  # full_pipeline = ColumnTransformer([\n",
        "  #       (\"cat\", OneHotEncoder(), category),\n",
        "  #   ])\n",
        "  full_pipeline = joblib.load(pipeline_path)\n",
        "  X_sell = full_pipeline.transform(data_sell)\n",
        "  print(X_sell.shape)\n",
        "  model_selection = joblib.load(model_path)\n",
        "  return model_selection.predict(X_sell)*0.9"
      ],
      "metadata": {
        "id": "7plrU0H26kp7"
      },
      "execution_count": null,
      "outputs": []
    },
    {
      "cell_type": "code",
      "source": [
        "print(predict_sell_value(data[:10]))"
      ],
      "metadata": {
        "colab": {
          "base_uri": "https://localhost:8080/"
        },
        "id": "WSEw0LCBFUyM",
        "outputId": "e0e60857-12b3-4acd-add1-73b0a678217c"
      },
      "execution_count": null,
      "outputs": [
        {
          "output_type": "stream",
          "name": "stderr",
          "text": [
            "/usr/local/lib/python3.7/dist-packages/ipykernel_launcher.py:38: SettingWithCopyWarning: \n",
            "A value is trying to be set on a copy of a slice from a DataFrame.\n",
            "Try using .loc[row_indexer,col_indexer] = value instead\n",
            "\n",
            "See the caveats in the documentation: https://pandas.pydata.org/pandas-docs/stable/user_guide/indexing.html#returning-a-view-versus-a-copy\n"
          ]
        },
        {
          "output_type": "stream",
          "name": "stdout",
          "text": [
            "(10, 2128)\n",
            "[2.673900e+09 2.598831e+09 4.310100e+09 2.306385e+09 4.284000e+09\n",
            " 5.578200e+09 2.873538e+09 5.552730e+09 5.387922e+09 2.763054e+09]\n"
          ]
        }
      ]
    },
    {
      "cell_type": "code",
      "source": [
        "imputer_path = \"/content/drive/MyDrive/Colab Notebooks/Rever_Predict_House_Value/rental_imputer.joblib\"\n",
        "rental_forest_reg_path = \"/content/drive/MyDrive/Colab Notebooks/Rever_Predict_House_Value/rental_forest_reg.joblib\"\n",
        "rental_lin_reg_path = \"/content/drive/MyDrive/Colab Notebooks/Rever_Predict_House_Value/rental_lin_reg.joblib\"\n",
        "rental_tree_reg_path = \"/content/drive/MyDrive/Colab Notebooks/Rever_Predict_House_Value/rental_tree_reg.joblib\"\n",
        "pipeline_path = \"/content/drive/MyDrive/Colab Notebooks/Rever_Predict_House_Value/rental_pipeline.joblib\"\n",
        "\n",
        "\n",
        "category = ['furniture_status',\n",
        "     'property_type', 'direction', 'ownership',\n",
        "     'has_3d', 'service_type', \n",
        "     'balcony_direction', 'content_status',\n",
        "     'architectural_style', 'exclusive', \n",
        "     'pool', 'open24h', 'garage', 'sauna_bath',\n",
        "     'working_space', 'relax_room', 'elevator', 'gym', 'cable', 'internet', 'pet', 'steam_bath', \n",
        "     'smart_home', 'tv', 'fridge', 'store_house', 'smart_drying_rig',\n",
        "     'gas_stove', 'mini_bar', 'microwave', 'helper_room',\n",
        "     'washing_machine', 'oven', 'fire_detection', 'water_heater',\n",
        "     'password_lock', 'kitchen_hood', 'dryer', 'sound_equipment',\n",
        "     'air_conditioner', 'fingerprint_lock', 'security_camera', 'garden',\n",
        "     'magnetic_card_lock', 'city', 'floor_number', \n",
        "     'neighborhood_id', 'district_id', 'street_id', 'city_id', 'ward_id', \n",
        "     'kitchen_cabinet', 'bed', 'sofa',  'dining_table', 'balcony',\n",
        "     'kitchen_equipment', 'multimedia',\n",
        "     'makeup_table', 'wardrobe', 'kitchen', 'table', \n",
        "     'pillow_cushions', 'shoe_cabinet', 'washstand',\n",
        "     'kitchen_island', 'bathtub',\n",
        "     'bedside_cupboard', 'decorative_fight',\n",
        "     'wet_kitchen', 'tv_shelf',\n",
        "     'bookshelf', 'wall_cabinet', 'ceiling_light', 'toilet_bowl',\n",
        "     'wood_floor', 'kitchen_cabinet_above', 'table_lamp', 'dry_kitchen', 'tv_cabinet', 'liquor_cabinet']\n",
        "\n",
        "numeric = ['num_bath_room', 'num_bed_room', 'area']\n",
        "\n",
        "def predict_rental_value(x, imputer_path = imputer_path, model_path = rental_forest_reg_path): \n",
        "  column_rental = category + numeric\n",
        "  df_data_rental = x[column_rental]\n",
        "  for i in category: \n",
        "    df_data_rental[i] = df_data_rental[i].astype('category').cat.codes\n",
        "  \n",
        "  imputer = joblib.load(imputer_path)\n",
        "  df_data_rental = df_data_rental.replace(-1, np.NaN)\n",
        "  rental_imputer = imputer.transform(df_data_rental.values)\n",
        "  data_rental = pd.DataFrame(rental_imputer, index=df_data_rental.index, columns=df_data_rental.columns)\n",
        "\n",
        "  # full_pipeline = ColumnTransformer([\n",
        "  #       (\"cat\", OneHotEncoder(), category),\n",
        "  #   ])\n",
        "  full_pipeline = joblib.load(pipeline_path)\n",
        "  X_rental = full_pipeline.transform(data_rental)\n",
        "  model_selection = joblib.load(model_path)\n",
        "  return model_selection.predict(X_rental)"
      ],
      "metadata": {
        "id": "j3C6kCtNSBiO"
      },
      "execution_count": null,
      "outputs": []
    },
    {
      "cell_type": "code",
      "source": [
        "print(predict_rental_value(data[:10]))"
      ],
      "metadata": {
        "colab": {
          "base_uri": "https://localhost:8080/"
        },
        "id": "K64NBjtsSw4_",
        "outputId": "b3c0ba19-aa04-4c45-d5ba-4fad9360cee2"
      },
      "execution_count": null,
      "outputs": [
        {
          "output_type": "stream",
          "name": "stderr",
          "text": [
            "/usr/local/lib/python3.7/dist-packages/ipykernel_launcher.py:38: SettingWithCopyWarning: \n",
            "A value is trying to be set on a copy of a slice from a DataFrame.\n",
            "Try using .loc[row_indexer,col_indexer] = value instead\n",
            "\n",
            "See the caveats in the documentation: https://pandas.pydata.org/pandas-docs/stable/user_guide/indexing.html#returning-a-view-versus-a-copy\n"
          ]
        },
        {
          "output_type": "stream",
          "name": "stdout",
          "text": [
            "[21616759.15       22102163.33333333 14655871.66666667 25920176.83333333\n",
            " 33004530.73333333 28471019.6        37221565.41666666 21677285.85\n",
            " 19495836.66666667 19798987.91666667]\n"
          ]
        }
      ]
    }
  ]
}